{
  "cells": [
    {
      "cell_type": "markdown",
      "id": "2c7f5747",
      "metadata": {
        "id": "2c7f5747"
      },
      "source": [
        "# Import Libraries"
      ]
    },
    {
      "cell_type": "code",
      "execution_count": 28,
      "id": "0fb9f581",
      "metadata": {
        "id": "0fb9f581"
      },
      "outputs": [],
      "source": [
        "from random import *\n",
        "import numpy as np\n",
        "from multiprocessing import Pool\n",
        "import matplotlib\n",
        "import matplotlib.pyplot as plt\n",
        "import matplotlib.animation as animation\n",
        "import numba\n",
        "from numba import jit\n",
        "import time\n",
        "%matplotlib notebook "
      ]
    },
    {
      "cell_type": "markdown",
      "id": "8ffeb08b",
      "metadata": {
        "id": "8ffeb08b"
      },
      "source": [
        "### Parameters"
      ]
    },
    {
      "cell_type": "code",
      "execution_count": 29,
      "id": "77f850fa",
      "metadata": {
        "id": "77f850fa"
      },
      "outputs": [],
      "source": [
        "probTree = 0.8\n",
        "probBurning = 0.01\n",
        "probImmune = 0.3\n",
        "probLightning = 0.001"
      ]
    },
    {
      "cell_type": "markdown",
      "id": "655c0b6b",
      "metadata": {
        "id": "655c0b6b"
      },
      "source": [
        "### Intializing the Universe (Forest)"
      ]
    },
    {
      "cell_type": "code",
      "execution_count": 30,
      "id": "8bb69ce2",
      "metadata": {
        "id": "8bb69ce2"
      },
      "outputs": [],
      "source": [
        "@jit(forceobj=True, parallel=True)\n",
        "#@numba.jit(nopython=True, parallel=True)\n",
        "def InitializeUniverse(probTree = 0.8, probBurning = 0.01, arraySize = 100):\n",
        "    \n",
        "    startTime = time.time()\n",
        "    \n",
        "    #declare the dimensional array populated with zeros\n",
        "    universe = np.zeros([arraySize, arraySize], dtype = int)\n",
        "    \n",
        "    #loop through the 2d array and generate a random number to cheeck if there is a tree and if the tree is burning or not\n",
        "    #for i in numba.prange(len(universe)):\n",
        "    for i in range(len(universe)):\n",
        "        for j in range(len(universe[i])):\n",
        "        #for j in numba.prange(len(universe[i])):\n",
        "            \n",
        "            #generate a random number\n",
        "            probTreeAvailable = randrange(0, 100)\n",
        "            probTreeAvailable = probTreeAvailable/100\n",
        "            round(probTreeAvailable, 1)\n",
        "            \n",
        "            if(probTreeAvailable < probTree):\n",
        "                #generate a random number\n",
        "                probTreeBurning = randrange(0, 100)\n",
        "                probTreeBurning = probTreeBurning/100\n",
        "                round(probTreeBurning, 1)\n",
        "            \n",
        "                if(probTreeBurning < probBurning):\n",
        "                      universe[i][j] = 2 #burning tree\n",
        "            else:\n",
        "                universe[i][j] = 1 #non-burning tree\n",
        "    \n",
        "    \n",
        "    extendedUniverse = ExtendUniverse(universe) \n",
        "   \n",
        "    \n",
        "    if len(extendedUniverse):\n",
        "        simulation = simulate(extendedUniverse)\n",
        "        \n",
        "    print(\"--- %s seconds - Execution Time (No Parallelisation)---\" % (time.time() - startTime))\n",
        "    return universe\n"
      ]
    },
    {
      "cell_type": "markdown",
      "id": "4e32d0f5",
      "metadata": {
        "id": "4e32d0f5"
      },
      "source": [
        "### Extend the Universe (Forest)\n",
        "The boundary of the Universe (forest) is extended using the periodic boundary conditons"
      ]
    },
    {
      "cell_type": "code",
      "execution_count": 31,
      "id": "f4a342f6",
      "metadata": {
        "id": "f4a342f6"
      },
      "outputs": [],
      "source": [
        "def ExtendUniverse(universe):\n",
        "    #gets the dimenson of the universe to be extended\n",
        "    n = universe.shape[0]\n",
        "    #extends an empty forest (array filled with zeros) by padding the grids by 2\n",
        "    extendedUniverse = np.zeros((n+2, n+2), dtype=int)\n",
        "    \n",
        "    #this copies the universe grids into empty grids\n",
        "    extendedUniverse[1:n+1, 1:n+1] = universe\n",
        "    \n",
        "    #this copies the values of the last row and assigns it to the first row (this reflects periodic boundary conditions)\n",
        "    extendedUniverse[0, :] = extendedUniverse[n, :]\n",
        "    \n",
        "    #this copies the values of the second row and assigns it to the last row (this reflects periodic boundary conditions)\n",
        "    extendedUniverse[n+1, :] = extendedUniverse[1, :]\n",
        "     \n",
        "    #this copies the values of the last column and assigns it to the first column\n",
        "    extendedUniverse[:, 0] = extendedUniverse[:, n]\n",
        "    \n",
        "     #this copies the values of the second column and assigns it to the last column\n",
        "    extendedUniverse[:, n+1] = extendedUniverse[:, 1]\n",
        "    \n",
        "    return extendedUniverse\n",
        "\n"
      ]
    },
    {
      "cell_type": "markdown",
      "id": "de9b9a9f",
      "metadata": {
        "id": "de9b9a9f"
      },
      "source": [
        "### Fire Spread (Von Neumann Neighborhood Algorithm)\n",
        "The spread of fire transition algorithm in this function was implemented based on Von Neumann Neighborhood"
      ]
    },
    {
      "cell_type": "code",
      "execution_count": 32,
      "id": "3a593bcf",
      "metadata": {
        "id": "3a593bcf"
      },
      "outputs": [],
      "source": [
        "def FireSpread(i, j, extendedUniverse):\n",
        "    cellValue = extendedUniverse[i][j]\n",
        "    \n",
        "    #checks if the cell value is empty(i.e. if the cell has no tree)\n",
        "    if(cellValue == 0):\n",
        "        #returns an empty cell i.e. 0\n",
        "        extendedUniverse[i][j] = 0\n",
        "        \n",
        "    #checks if the site has a tree i.e. non-burning tree\n",
        "    elif(cellValue == 1):\n",
        "        #generate a random number for probability of the site immune from catching fire\n",
        "        probSiteImmune = randrange(0, 100)\n",
        "        probSiteImmune = probSiteImmune/100\n",
        "        round(probSiteImmune, 1)\n",
        "        \n",
        "        #checks if the site is immuned from catching fire\n",
        "        if (probSiteImmune < probImmune):\n",
        "            extendedUniverse[i][j] = 1\n",
        "\n",
        "        else:\n",
        "             for di in range(-1, 2):\n",
        "                for dj in range(-1, 2):\n",
        "                    #try get the neighbouring value of the current cell\n",
        "                    if abs(di) + abs(dj) == 1 and extendedUniverse[i+di, j+dj] == 2:\n",
        "                        \n",
        "                        #generate a random number for probability of the site lightning\n",
        "                        probSitelightning = randrange(0, 100)\n",
        "                        probSitelightning = probSitelightning/100\n",
        "                        round(probSitelightning, 1)\n",
        "                        \n",
        "                        if (probSitelightning < probLightning):\n",
        "                            # returns 2 i.e. lightning strikes the site\n",
        "                            extendedUniverse[i][j] = 2\n",
        "                        else:\n",
        "                            # returns 2 i.e. the site catches fire\n",
        "                            extendedUniverse[i][j] = 2\n",
        "        \n",
        "        extendedUniverse[i][j] = 1\n",
        "        \n",
        "    #checks if the site is burning already\n",
        "    elif(cellValue == 2):\n",
        "        #returns 0 i.e. the site is empty (burnt down)\n",
        "        extendedUniverse[i][j] = 0\n",
        "    \n",
        "    #visualize(extendedUniverse)\n",
        "   \n",
        "    return extendedUniverse\n",
        "    \n"
      ]
    },
    {
      "cell_type": "markdown",
      "id": "fb411d05",
      "metadata": {
        "id": "fb411d05"
      },
      "source": [
        "### Simulate "
      ]
    },
    {
      "cell_type": "code",
      "execution_count": 33,
      "id": "fe1c22f5",
      "metadata": {
        "id": "fe1c22f5"
      },
      "outputs": [],
      "source": [
        "def simulate(extendedUniverse):\n",
        "    n = extendedUniverse.shape[0]\n",
        "    pool = Pool()\n",
        "    \n",
        "    \n",
        "    results = []\n",
        "    for i in range(1, n-1):\n",
        "        for j in range(1, n-1):\n",
        "            #maps the extendedUniverse into the FireSpread Function\n",
        "            results.append(pool.apply(FireSpreadBasedOnMooreNeighborhood, (i, j, extendedUniverse)))\n",
        "            #visualize(results)\n",
        "    \n",
        "   \n",
        "    pool.close()\n",
        "    pool.join()\n",
        "    \n",
        "    res = np.array(results)\n",
        "   \n",
        "    \n",
        "    return res\n",
        "    \n",
        "    #return results\n",
        "    \n",
        "   \n",
        "    "
      ]
    },
    {
      "cell_type": "markdown",
      "id": "c82dc45d",
      "metadata": {
        "id": "c82dc45d"
      },
      "source": [
        "### Visualize the Forest Grid"
      ]
    },
    {
      "cell_type": "code",
      "execution_count": 34,
      "id": "5be0040e",
      "metadata": {
        "id": "5be0040e"
      },
      "outputs": [],
      "source": [
        "def visualize(grid):\n",
        "   \n",
        "    # Define the color map\n",
        "    cmap = plt.cm.colors.ListedColormap(['white', 'green', 'red'])\n",
        "    # Define the bounds for the colors\n",
        "    bounds = [0, 1, 2, 3]\n",
        "    # Define the color for each value\n",
        "    colors = ['white', 'green', 'red']\n",
        "    # Create a color map object\n",
        "    norm = plt.cm.colors.BoundaryNorm(bounds, cmap.N)\n",
        "    # Create a figure and axis object\n",
        "    fig, ax = plt.subplots()\n",
        "    # Plot the grid\n",
        "    ax.imshow(grid, cmap=cmap, norm=norm)\n",
        "    # Remove the axis ticks and labels\n",
        "    ax.set_xticks([])\n",
        "    ax.set_yticks([])\n",
        "    # Set the title of the plot\n",
        "    ax.set_title('Spread of Fire')\n",
        "    # Create a color bar for the plot\n",
        "    cbar = plt.colorbar(matplotlib.cm.ScalarMappable(norm=norm, cmap=cmap), ax=ax, ticks=bounds, boundaries=bounds)\n",
        "    #cbar.ax.set_yticklabels(colors)\n",
        "    \n",
        "    \n",
        "    def update(frame):\n",
        "        ax.clear()\n",
        "        # Update the grid\n",
        "        ax.imshow(grid, cmap=cmap, norm=norm)\n",
        "        return ax\n",
        "\n",
        "    # Create the animation\n",
        "    anim = animation.FuncAnimation(fig, update, frames=grid, interval=500, blit=True)\n",
        "    anim.save(\"Animate_Firespread.mp4\")\n",
        "    \n",
        "    # Show the animation\n",
        "    plt.show()\n"
      ]
    },
    {
      "cell_type": "markdown",
      "id": "a0f67bff",
      "metadata": {
        "id": "a0f67bff"
      },
      "source": [
        "### Fire Spread (Moore Neighborhood Algortihm)"
      ]
    },
    {
      "cell_type": "code",
      "execution_count": 35,
      "id": "9fee16ff",
      "metadata": {
        "id": "9fee16ff"
      },
      "outputs": [],
      "source": [
        "def FireSpreadBasedOnMooreNeighborhood(i, j, extendedUniverse):\n",
        "    cellValue = extendedUniverse[i][j]\n",
        "    \n",
        "    #checks if the cell value is empty(i.e. if the cell has no tree)\n",
        "    if(cellValue == 0):\n",
        "        #returns an empty cell i.e. 0\n",
        "        extendedUniverse[i][j] = 0\n",
        "        \n",
        "    #checks if the site has a tree i.e. non-burning tree\n",
        "    elif(cellValue == 1):\n",
        "        #generate a random number for probability of the site immune from catching fire\n",
        "        probSiteImmune = randrange(0, 100)\n",
        "        probSiteImmune = probSiteImmune/100\n",
        "        round(probSiteImmune, 1)\n",
        "        \n",
        "        #checks if the site is immuned from catching fire\n",
        "        if (probSiteImmune < probImmune):\n",
        "            extendedUniverse[i][j] = 1\n",
        "\n",
        "        else:\n",
        "             for di in range(-1, 2):\n",
        "                for dj in range(-1, 2):\n",
        "                    #try get the neighbouring value of the current cell based on moore neighborhood\n",
        "                    if i+di >= 0 and i+di < extendedUniverse.shape[0] and j+dj >= 0 and j+dj < extendedUniverse.shape[1]:\n",
        "                     # check if the neighboring cell is not the current cell and is equal to 2\n",
        "                     if (di != 0 or dj != 0) and extendedUniverse[i+di, j+dj] == 2:\n",
        "\n",
        "                        #generate a random number for probability of the site lightning\n",
        "                        probSitelightning = randrange(0, 100)\n",
        "                        probSitelightning = probSitelightning/100\n",
        "                        round(probSitelightning, 1)\n",
        "\n",
        "                        if (probSitelightning < probLightning):\n",
        "                            # returns 2 i.e. lightning strikes the site\n",
        "                            extendedUniverse[i][j] = 2\n",
        "                        else:\n",
        "                            # returns 2 i.e. the site catches fire\n",
        "                            extendedUniverse[i][j] = 2\n",
        "\n",
        "        extendedUniverse[i][j] = 1\n",
        "        \n",
        "    #checks if the site is burning already\n",
        "    elif(cellValue == 2):\n",
        "        #returns 0 i.e. the site is empty (burnt down)\n",
        "        extendedUniverse[i][j] = 0\n",
        "    \n",
        "    return extendedUniverse\n"
      ]
    },
    {
      "cell_type": "code",
      "execution_count": 36,
      "id": "9061a66f",
      "metadata": {
        "scrolled": true,
        "colab": {
          "base_uri": "https://localhost:8080/"
        },
        "id": "9061a66f",
        "outputId": "90a97dd8-1d41-419a-980b-73eb8b7ffe53"
      },
      "outputs": [
        {
          "output_type": "stream",
          "name": "stdout",
          "text": [
            "--- 12.48971152305603 seconds - Execution Time (No Parallelisation)---\n"
          ]
        },
        {
          "output_type": "execute_result",
          "data": {
            "text/plain": [
              "array([[0, 0, 0, ..., 0, 0, 0],\n",
              "       [0, 0, 0, ..., 0, 0, 0],\n",
              "       [0, 0, 0, ..., 0, 0, 0],\n",
              "       ...,\n",
              "       [0, 0, 1, ..., 0, 0, 1],\n",
              "       [0, 0, 0, ..., 0, 0, 0],\n",
              "       [1, 0, 1, ..., 0, 0, 0]])"
            ]
          },
          "metadata": {},
          "execution_count": 36
        }
      ],
      "source": [
        "#Entry Point for this simulation\n",
        "InitializeUniverse()"
      ]
    },
    {
      "cell_type": "code",
      "execution_count": 36,
      "id": "c4bca567",
      "metadata": {
        "id": "c4bca567"
      },
      "outputs": [],
      "source": []
    },
    {
      "cell_type": "code",
      "execution_count": 36,
      "id": "0dddddc3",
      "metadata": {
        "id": "0dddddc3"
      },
      "outputs": [],
      "source": []
    },
    {
      "cell_type": "code",
      "execution_count": 36,
      "id": "8872945f",
      "metadata": {
        "id": "8872945f"
      },
      "outputs": [],
      "source": []
    }
  ],
  "metadata": {
    "kernelspec": {
      "display_name": "Python 3 (ipykernel)",
      "language": "python",
      "name": "python3"
    },
    "language_info": {
      "codemirror_mode": {
        "name": "ipython",
        "version": 3
      },
      "file_extension": ".py",
      "mimetype": "text/x-python",
      "name": "python",
      "nbconvert_exporter": "python",
      "pygments_lexer": "ipython3",
      "version": "3.9.13"
    },
    "colab": {
      "provenance": []
    }
  },
  "nbformat": 4,
  "nbformat_minor": 5
}